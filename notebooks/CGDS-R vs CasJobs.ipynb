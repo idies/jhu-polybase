{
 "cells": [
  {
   "cell_type": "markdown",
   "metadata": {},
   "source": [
    "# MS SQL - MySQL bridge\n",
    "Querying cbioportal database 2.7.3 using SQL against CasJobs context cbioportal_mysql.\n",
    "Comparing with the R library commands documented \n",
    "<a href=\"https://cran.r-project.org/web/packages/cgdsr/cgdsr.pdf\" target=\"_blank\">here</a>.\n",
    "\n",
    "Examples taken from demo script for this R library. TODO add URL\n",
    "\n",
    "## NB: CasJobs group\n",
    "For now you also need to be a member of the Polybase group in CasJobs to be allowed to query the cbioportal_mysql database context. Soon that group should be merged with the SciServer Polybase group."
   ]
  },
  {
   "cell_type": "code",
   "execution_count": null,
   "metadata": {},
   "outputs": [],
   "source": [
    "#R.version\n",
    "options(repr.matrix.max.rows=6000, repr.matrix.max.cols=200)"
   ]
  },
  {
   "cell_type": "code",
   "execution_count": null,
   "metadata": {},
   "outputs": [],
   "source": [
    "# must run this first, once\n",
    "install.packages('cgdsr')\n",
    "install.packages('reshape')"
   ]
  },
  {
   "cell_type": "code",
   "execution_count": null,
   "metadata": {},
   "outputs": [],
   "source": [
    "require('cgdsr')\n",
    "require('SciServer')\n",
    "require(reshape)\n",
    "# define the CasJobs database context that is being queried \n",
    "DATABASE=\"cbioportal_mysql\""
   ]
  },
  {
   "cell_type": "code",
   "execution_count": null,
   "metadata": {},
   "outputs": [],
   "source": [
    "# Create CGDS object\n",
    "mycgds = CGDS(\"http://www.cbioportal.org/\")\n",
    "#test(mycgds)"
   ]
  },
  {
   "cell_type": "markdown",
   "metadata": {},
   "source": [
    "# the database\n",
    "Model in png and pdf in this folder.\n",
    "\n",
    "<a href=\"https://github.com/cBioPortal/cbioportal/raw/master/db-scripts/src/main/resources/cbioportal-er-diagram_v2.7.0.png\" target=\"_blank\">Link to data model diagram</a>"
   ]
  },
  {
   "cell_type": "markdown",
   "metadata": {},
   "source": [
    "## getCancerStudies"
   ]
  },
  {
   "cell_type": "code",
   "execution_count": null,
   "metadata": {},
   "outputs": [],
   "source": [
    "# Get list of cancer studies at server\n",
    "allCS=getCancerStudies(mycgds,)\n",
    "head(allCS,4)"
   ]
  },
  {
   "cell_type": "code",
   "execution_count": null,
   "metadata": {},
   "outputs": [],
   "source": [
    "mycancerstudy=allCS[1,1]"
   ]
  },
  {
   "cell_type": "code",
   "execution_count": null,
   "metadata": {},
   "outputs": [],
   "source": [
    "sql=\"\n",
    "select CANCER_STUDY_IDENTIFIER as cancer_study_id,name,description from cancer_study\n",
    "order by name\n",
    "\"\n",
    "df=CasJobs.executeQuery(sql,DATABASE)\n",
    "head(df,4)"
   ]
  },
  {
   "cell_type": "markdown",
   "metadata": {},
   "source": [
    "## getCaseLists"
   ]
  },
  {
   "cell_type": "code",
   "execution_count": null,
   "metadata": {},
   "outputs": [],
   "source": [
    "mycaselist = getCaseLists(mycgds,mycancerstudy)[1,1]\n",
    "mycaselist"
   ]
  },
  {
   "cell_type": "markdown",
   "metadata": {},
   "source": [
    "Note the case_ids column, which is a concatenation of stable_id from the sample table.\n",
    "This can already be done in Polybase 2019 using the STRING_AGG function. Note, this is likely done on the MS SQL side, i.e. not expected that the GROUP_CONCAT function is used by SQL.\n"
   ]
  },
  {
   "cell_type": "code",
   "execution_count": null,
   "metadata": {},
   "outputs": [],
   "source": [
    "ptm<-proc.time()\n",
    "sql=sprintf(\"\n",
    "select sl.stable_id as case_list_id, max(sl.name) as case_list_name\n",
    ",      max(sl.description) as case_list_description\n",
    ",      sl.cancer_study_id\n",
    ",      STRING_AGG(s.stable_id ,' ') as case_ids\n",
    "  from cancer_study cs\n",
    "    inner join sample_list sl\n",
    "      on sl.CANCER_STUDY_ID=cs.CANCER_STUDY_ID\n",
    "  join sample_list_list sll\n",
    "     on sl.list_id=sll.list_id\n",
    "  join sample s\n",
    "    on s.internal_id=sll.sample_id\n",
    "where cs.cancer_study_identifier='%s'\n",
    "group by sl.stable_id,sl.cancer_study_id\n",
    "order by 1,2\n",
    "\",mycancerstudy)\n",
    "df=CasJobs.executeQuery(sql,DATABASE)\n",
    "print(proc.time()-ptm)\n",
    "head(df,5)"
   ]
  },
  {
   "cell_type": "markdown",
   "metadata": {},
   "source": [
    "Note, string aggregation done in MS SQL. Could be done in MySQL using OPENQUERY and GROP_CONCAT."
   ]
  },
  {
   "cell_type": "code",
   "execution_count": null,
   "metadata": {},
   "outputs": [],
   "source": [
    "# Write previous query in MySQL using OPENQUERY\n",
    "# note, replace single single quotes by two single quotes. \n",
    "ptm<-proc.time()\n",
    "sql=sprintf(\"select * from OPENQUERY([172.23.250.16],'\n",
    "select sl.stable_id as case_list_id, max(sl.name) as case_list_name\n",
    ",      max(sl.description) as case_list_description\n",
    ",      sl.cancer_study_id\n",
    ",      GROUP_CONCAT(s.stable_id separator '' '') as case_ids\n",
    "  from cancer_study cs\n",
    "    inner join sample_list sl\n",
    "      on sl.CANCER_STUDY_ID=cs.CANCER_STUDY_ID\n",
    "  join sample_list_list sll\n",
    "     on sl.list_id=sll.list_id\n",
    "  join sample s\n",
    "    on s.internal_id=sll.sample_id\n",
    "where cs.cancer_study_identifier=''%s''\n",
    "group by sl.stable_id,sl.cancer_study_id\n",
    "order by 1,2') a\n",
    "\",mycancerstudy)\n",
    "df=CasJobs.executeQuery(sql,DATABASE)\n",
    "print(proc.time()-ptm)\n",
    "head(df,4)"
   ]
  },
  {
   "cell_type": "markdown",
   "metadata": {},
   "source": [
    "## getGeneticProfiles"
   ]
  },
  {
   "cell_type": "code",
   "execution_count": null,
   "metadata": {},
   "outputs": [],
   "source": [
    "# Get available genetic profiles\n",
    "mygeneticprofiles = getGeneticProfiles(mycgds,mycancerstudy)\n",
    "mygeneticprofile=mygeneticprofiles[1,1]\n",
    "mygeneticprofiles\n"
   ]
  },
  {
   "cell_type": "code",
   "execution_count": null,
   "metadata": {},
   "outputs": [],
   "source": [
    "sql=sprintf(\"\n",
    "select gp.stable_id as genetic_profile_id\n",
    ",      gp.name as genetic_profile_name\n",
    ",      gp.description as genetic_profile_description\n",
    ",      cs.cancer_study_id\n",
    ",      gp.genetic_alteration_type\n",
    ",      gp.show_profile_in_analysis_tab\n",
    "  from cancer_study cs\n",
    "  join genetic_profile gp\n",
    "    on gp.cancer_study_id=cs.cancer_study_id\n",
    " where cs.cancer_study_identifier='%s'\n",
    "\",mycancerstudy)\n",
    "gps=CasJobs.executeQuery(sql,DATABASE)\n",
    "gps"
   ]
  },
  {
   "cell_type": "markdown",
   "metadata": {},
   "source": [
    "## getClinicalData"
   ]
  },
  {
   "cell_type": "code",
   "execution_count": null,
   "metadata": {
    "scrolled": true
   },
   "outputs": [],
   "source": [
    "cd=getClinicalData(mycgds,mycaselist)\n",
    "head(cd,4)"
   ]
  },
  {
   "cell_type": "code",
   "execution_count": null,
   "metadata": {},
   "outputs": [],
   "source": [
    "ptm<-proc.time()\n",
    "# 1. Using OPENQUERY to the linked MySQL server.\n",
    "sql=sprintf(\"\n",
    "select * from \n",
    " openquery([172.23.250.16],'select p.stable_id\n",
    "  ,    cam.attr_id,cp.attr_value\n",
    "  from cancer_study cs\n",
    "   inner join clinical_attribute_meta cam\n",
    "     on cam.cancer_study_id=cs.cancer_study_id\n",
    "    and cam.patient_attribute=1\n",
    "   inner join patient p\n",
    "     on p.cancer_study_id=cs.cancer_study_id\n",
    "   inner join clinical_patient cp\n",
    "     on cp.internal_id=p.internal_id\n",
    "    and cp.attr_id=cam.attr_id\n",
    " where cs.cancer_study_identifier=''%s''\n",
    "union all\n",
    "select p.stable_id\n",
    "  ,    cam.attr_id, cls.attr_value\n",
    "  from cancer_study cs\n",
    "   inner join clinical_attribute_meta cam\n",
    "     on cam.cancer_study_id=cs.cancer_study_id\n",
    "    and cam.patient_attribute=0\n",
    "   inner join patient p\n",
    "     on p.cancer_study_id=cs.cancer_study_id\n",
    "   inner join sample s\n",
    "     on s.patient_id=p.internal_id\n",
    "   inner join clinical_sample cls\n",
    "     on s.internal_id=cls.internal_id\n",
    "    and cls.attr_id=cam.attr_id\n",
    " where cs.cancer_study_identifier=''%s''') a\n",
    "\",mycancerstudy,mycancerstudy)\n",
    "df_v=CasJobs.executeQuery(sql, DATABASE)\n",
    "print(proc.time()-ptm)\n",
    "r=cast(df_v, stable_id ~ attr_id,value='attr_value')\n",
    "head(r,4)"
   ]
  },
  {
   "cell_type": "code",
   "execution_count": null,
   "metadata": {},
   "outputs": [],
   "source": [
    "# 2. using polybase for same query\n",
    "# This fails when using 'UNION' or UNION ALL', but works for each part individually. \n",
    "# Polybase translation not accepted by mariadb\n",
    "# TODO ask MS Polybase team\n",
    "\n",
    "sql=sprintf(\"\n",
    "select p.stable_id\n",
    "  ,    cam.attr_id,cp.attr_value\n",
    "  from cancer_study cs\n",
    "   inner join clinical_attribute_meta cam\n",
    "     on cam.cancer_study_id=cs.cancer_study_id\n",
    "    and cam.patient_attribute=1\n",
    "   inner join patient p\n",
    "     on p.cancer_study_id=cs.cancer_study_id\n",
    "   left outer join clinical_patient cp\n",
    "     on cp.internal_id=p.internal_id\n",
    "    and cp.attr_id=cam.attr_id\n",
    " where cs.cancer_study_identifier='%s'\n",
    "union all\n",
    "select p.stable_id\n",
    "  ,    cam.attr_id, cls.attr_value\n",
    "  from cancer_study cs\n",
    "   inner join clinical_attribute_meta cam\n",
    "     on cam.cancer_study_id=cs.cancer_study_id\n",
    "    and cam.patient_attribute=0\n",
    "   inner join patient p\n",
    "     on p.cancer_study_id=cs.cancer_study_id\n",
    "   left outer join sample s\n",
    "     on s.patient_id=p.internal_id\n",
    "   left outer join clinical_sample cls\n",
    "     on s.internal_id=cls.internal_id\n",
    "    and cls.attr_id=cam.attr_id\n",
    " where cs.cancer_study_identifier='%s'\n",
    "\",mycancerstudy,mycancerstudy)"
   ]
  },
  {
   "cell_type": "code",
   "execution_count": null,
   "metadata": {},
   "outputs": [],
   "source": [
    "ptm<-proc.time()\n",
    "df_v=CasJobs.executeQuery(sql, DATABASE)\n",
    "cat(proc.time() -ptm)\n",
    "r=cast(df_v, stable_id ~ attr_id,value='attr_value')\n",
    "head(r,4)"
   ]
  },
  {
   "cell_type": "code",
   "execution_count": null,
   "metadata": {},
   "outputs": [],
   "source": [
    "cat(sql)\n",
    "# try out in casjobs. Also investigate plan.\n",
    "# seems not to be pushing much of the query to MySQL"
   ]
  },
  {
   "cell_type": "markdown",
   "metadata": {},
   "source": [
    "## getMutationData\n"
   ]
  },
  {
   "cell_type": "code",
   "execution_count": null,
   "metadata": {},
   "outputs": [],
   "source": [
    "mycgds = CGDS(\"http://www.cbioportal.org/\")\n",
    "getMutationData(mycgds,mycaselist,mygeneticprofile,c('EGFR','PTEN'))\n"
   ]
  },
  {
   "cell_type": "code",
   "execution_count": null,
   "metadata": {},
   "outputs": [],
   "source": [
    "# input: mycaselist, mygeneticprofile,geneslist\n",
    "genes=c('PTEN','EGFR')\n",
    "geneslist=gsub(\"'\",\"''\",paste(shQuote(genes), collapse=\",\"))\n",
    "\n",
    "sql=sprintf(\"\n",
    "select * from openquery([172.23.250.16],'\n",
    "SELECT g.entrez_gene_id, g.hugo_gene_symbol as gene_symbol\n",
    ",      s.stable_id as case_id\n",
    ",      m.center as sequencing_center, m.mutation_status\n",
    ",      me.mutation_type,m.validation_status\n",
    ",      me.functional_impact_score,me.link_xvar as xvar_link, link_pdb as xvar_link_pdb, link_msa as xvar_link_msa\n",
    ",      me.chr, me.start_position, me.end_position, me.reference_allele, me.tumor_seq_allele as variant_allele\n",
    ",      me.keyword\n",
    ",      gp.genetic_profile_id\n",
    "  FROM sample_list sl\n",
    "  ,    sample_list_list sll\n",
    "  ,    sample s\n",
    "  ,    genetic_profile gp\n",
    "  ,    gene g\n",
    "  ,    mutation m\n",
    "  ,    mutation_event me\n",
    " where sl.stable_id=''%s''\n",
    "  and sl.list_id=sll.list_id\n",
    "  and s.internal_id=sll.sample_id\n",
    "  and gp.stable_id=''%s''\n",
    "  and g.hugo_gene_symbol in (%s)\n",
    "  and m.sample_id=s.internal_id\n",
    "  and m.genetic_profile_id=gp.genetic_profile_id\n",
    "  and m.entrez_gene_id = g.entrez_gene_id\n",
    "  and me.mutation_event_id=m.mutation_event_id\n",
    "') a\n",
    "\",mycaselist,mygeneticprofile, geneslist)\n",
    "df=CasJobs.executeQuery(sql,DATABASE)\n",
    "head(df,4)"
   ]
  },
  {
   "cell_type": "code",
   "execution_count": null,
   "metadata": {},
   "outputs": [],
   "source": []
  }
 ],
 "metadata": {
  "kernelspec": {
   "display_name": "R",
   "language": "R",
   "name": "ir"
  },
  "language_info": {
   "codemirror_mode": "r",
   "file_extension": ".r",
   "mimetype": "text/x-r-source",
   "name": "R",
   "pygments_lexer": "r",
   "version": "3.4.1"
  }
 },
 "nbformat": 4,
 "nbformat_minor": 2
}
